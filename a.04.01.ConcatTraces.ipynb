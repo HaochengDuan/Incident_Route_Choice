{
 "cells": [
  {
   "cell_type": "raw",
   "metadata": {},
   "source": [
    "! pwd"
   ]
  },
  {
   "cell_type": "code",
   "execution_count": 1,
   "metadata": {},
   "outputs": [],
   "source": [
    "import os\n",
    "import pandas as pd\n",
    "import glob\n",
    "import geopandas as gpd\n",
    "import datetime\n",
    "import numpy as np\n",
    "import csv\n",
    "import copy"
   ]
  },
  {
   "cell_type": "code",
   "execution_count": 2,
   "metadata": {},
   "outputs": [],
   "source": [
    "import pandas as pd\n",
    "import glob\n",
    "\n",
    "# use glob to get all the csv files \n",
    "csv_files = glob.glob(os.getcwd()+'/2020_Jan_Trace_Filtered/results/*.csv')\n",
    "\n",
    "# loop over the list of csv files\n",
    "list_data = []\n",
    "for filename in csv_files:\n",
    "    # read the csv file\n",
    "    data = pd.read_csv(filename)\n",
    "    # append the dataframe to the list\n",
    "    list_data.append(data)\n",
    "\n",
    "# concatenate the dataframes in the list\n",
    "combined_csv = pd.concat(list_data, ignore_index=True)\n",
    "\n",
    "# save combined file\n",
    "combined_csv.to_csv(os.getcwd()+'/2020_Jan_Trace_Filtered/combined_traces.csv', index=False)"
   ]
  }
 ],
 "metadata": {
  "kernelspec": {
   "display_name": "Python 3 (ipykernel)",
   "language": "python",
   "name": "python3"
  },
  "language_info": {
   "codemirror_mode": {
    "name": "ipython",
    "version": 3
   },
   "file_extension": ".py",
   "mimetype": "text/x-python",
   "name": "python",
   "nbconvert_exporter": "python",
   "pygments_lexer": "ipython3",
   "version": "3.8.16"
  },
  "vscode": {
   "interpreter": {
    "hash": "4c7976fd35f11d6b5acd37b5df05c2b1d9460872f4ccb0abe3e95e9a1eb343e6"
   }
  }
 },
 "nbformat": 4,
 "nbformat_minor": 2
}
